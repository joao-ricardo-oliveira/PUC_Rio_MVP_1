{
 "cells": [
  {
   "cell_type": "markdown",
   "metadata": {
    "application/vnd.databricks.v1+cell": {
     "cellMetadata": {
      "byteLimit": 2048000,
      "rowLimit": 10000
     },
     "inputWidgets": {},
     "nuid": "7c3aadb1-eb04-44cb-81c7-75238263416e",
     "showTitle": false,
     "tableResultSettingsMap": {},
     "title": ""
    }
   },
   "source": [
    "# Análise da cobertura do projeto Gás para Todos"
   ]
  },
  {
   "cell_type": "markdown",
   "metadata": {
    "application/vnd.databricks.v1+cell": {
     "cellMetadata": {
      "byteLimit": 2048000,
      "rowLimit": 10000
     },
     "inputWidgets": {},
     "nuid": "cbb7b0fd-dd7c-46a0-a53a-dc38edf585cb",
     "showTitle": false,
     "tableResultSettingsMap": {},
     "title": ""
    }
   },
   "source": [
    "## Apresentação\n",
    "\n",
    "Eu me chamo João Ricardo Oliveira. Sou professor de Matemática e Física, e tenho quase 30 anos de experiência ensinando essas duas fascinantes disciplinas. Uma carreira da qual me orgulho, e na qual certamente permaneceria, se não fosse um certo convite.\n",
    "\n",
    "\n",
    "\n",
    "\n"
   ]
  },
  {
   "cell_type": "markdown",
   "metadata": {
    "application/vnd.databricks.v1+cell": {
     "cellMetadata": {
      "byteLimit": 2048000,
      "rowLimit": 10000
     },
     "inputWidgets": {},
     "nuid": "d80a7305-077b-4edb-a22f-3235447daa22",
     "showTitle": false,
     "tableResultSettingsMap": {},
     "title": ""
    }
   },
   "source": [
    "## Como tudo começou\n",
    "\n",
    "No início de 2022, um amigo me convidou para trabalhar em um projeto de uma ONG do 3o setor. Achei a proposta interessante. Afinal, era um projeto socialmente relevante, além de ser algo totalmente diferente do que sempre fiz por toda minha carreira. Por isso, apesar de relutante, aceitei o convite, sem fazer ideia da incrível instituição que eu estava prestes a conhecer. "
   ]
  },
  {
   "cell_type": "markdown",
   "metadata": {
    "application/vnd.databricks.v1+cell": {
     "cellMetadata": {
      "byteLimit": 2048000,
      "rowLimit": 10000
     },
     "inputWidgets": {},
     "nuid": "673b28db-48a7-4690-ba6c-c41d49e43af8",
     "showTitle": false,
     "tableResultSettingsMap": {},
     "title": ""
    }
   },
   "source": [
    "## Quem tem fome tem pressa\n",
    "\n",
    "A Ação da Cidadania foi fundada em 1993 pelo sociólogo Herbert de Souza, o Betinho. Formada por uma grande rede de comitês da sociedade civil organizada, contando com o apoio de lideranças locais e de diversos setores sociais, sua principal área de atuação é a luta contra a fome e a insegurança alimentar. Uma luta resumida precisamente em seu famoso lema: \"quem tem fome tem pressa\".\n",
    "\n",
    "<div style=\"text-align: center;\">\n",
    "  <p><strong>Figura 1:</strong> Herbert de Souza, o Betinho</p>\n",
    "  <img src=\"https://saude.abril.com.br/wp-content/uploads/2023/12/Saude-e-Pop_Betinho2_Acao-da-Cidadania_Divulgacao.jpg\" width=\"400\">\n",
    "  <p style=\"font-size: 12px; color: #555;\">\n",
    "    Fonte: <a href=\"https://saude.abril.com.br/coluna/saude-e-pop/os-30-anos-do-natal-sem-fome-a-historia-de-herbert-de-souza-o-betinho/\" target=\"_blank\">\n",
    "    saude.abril.com.br</a>. Acesso em: 7 abr. 2025\n",
    "  </p>\n",
    "</div>"
   ]
  },
  {
   "cell_type": "markdown",
   "metadata": {
    "application/vnd.databricks.v1+cell": {
     "cellMetadata": {
      "byteLimit": 2048000,
      "rowLimit": 10000
     },
     "inputWidgets": {},
     "nuid": "fa239c92-d7ec-45c1-9520-3de85c083e69",
     "showTitle": false,
     "tableResultSettingsMap": {},
     "title": ""
    }
   },
   "source": [
    "## O Projeto\n",
    "\n",
    "Minha missão era gerenciar o projeto \"Gás para Todos\", resultado de uma parceria entre a Ação da Cidadania e a Petrobras. Inicialmente, seriam 85.000 famílias atendidas em todo o território nacional, cada uma recebendo 5 vales-gás que poderiam ser trocados por botijões de GLP ao longo de um ano. Era, portanto, um projeto grandioso, que certamente iria impactar centenas de milhares de brasileiros em vulnerabilidade social. \n",
    "\n",
    "No entanto, precisaríamos cadastrar todas essas famílias; precisaríamos registrar todos os vales-gás recebidos por cada família; precisaríamos registrar os status de troca de todos os vales-gás. Ou seja, era uma quantidade gigantesca de dados para alguém que, como eu, tinha pouca experiência em colocar a matemática em prática fora das salas de aula.\n",
    "\n",
    "E foi assim, aos tropeços, aprendendo na marra e na prática, que conheci a Ciência de Dados."
   ]
  },
  {
   "cell_type": "markdown",
   "metadata": {
    "application/vnd.databricks.v1+cell": {
     "cellMetadata": {
      "byteLimit": 2048000,
      "rowLimit": 10000
     },
     "inputWidgets": {},
     "nuid": "ed0dcac2-6035-48e5-a982-0c91b3175736",
     "showTitle": false,
     "tableResultSettingsMap": {},
     "title": ""
    }
   },
   "source": [
    "## A Cobertura\n",
    "\n",
    "A Ação da Cidadania conta com a ajuda local de seus comitês para aumentar sua capilaridade. E foi com base na percepção da diretoria acerca da capacidade técnica desses comitês que as quantidades de famílias atendidas por UF foram arbitrariamente definidas. \n",
    "\n",
    "No entanto, naquele momento, tais decisões ainda careciam de dados objetivos. A instiuição ainda levava em consideração aspectos subjetivos demais em suas tomadas de decisão. A própria percepção da capacidade técnica dos comitês era baseada em impressões pessoais, em experiências passadas, e não em métricas, dados quantificáveis ou _benchmarking_.\n"
   ]
  },
  {
   "cell_type": "markdown",
   "metadata": {
    "application/vnd.databricks.v1+cell": {
     "cellMetadata": {
      "byteLimit": 2048000,
      "rowLimit": 10000
     },
     "inputWidgets": {},
     "nuid": "98221325-5083-4b5f-a1bd-a6ec5c654e1e",
     "showTitle": false,
     "tableResultSettingsMap": {},
     "title": ""
    }
   },
   "source": [
    "## As Grandes Questões\n",
    "\n",
    "Por tudo isso, ao longo de todo o projeto, eu sempre me perguntei:\n",
    "\n",
    "**_\"Estamos fazendo uma distribuição justa de recursos? As quantidades de famílias atendidas por UF refletem de forma precisa as diferenças de condições dessas regiões? Ou estamos inadvertidamente priorizando algumas delas, em detrimento de outras mais necessitadas? Nesse caso, quais seriam os dados objetivos que poderíamos usar para uma ditribuição ideal, buscando minimizar um dos maiores problemas do Brasil: a desigualdade social?\"_**\n",
    "\n",
    "São essas perguntas que pretendo responder ao longo do presente trabalho."
   ]
  },
  {
   "cell_type": "markdown",
   "metadata": {
    "application/vnd.databricks.v1+cell": {
     "cellMetadata": {
      "byteLimit": 2048000,
      "rowLimit": 10000
     },
     "inputWidgets": {},
     "nuid": "2593e384-c234-4a10-9e7f-0711af397960",
     "showTitle": false,
     "tableResultSettingsMap": {},
     "title": ""
    }
   },
   "source": [
    "## O esquema de dados\n",
    "\n",
    "Para podermos responder as perguntas acima, vamos precisar de uma tabela bastante simples, composta por somente três atributos. No entanto, temos alguns esforços necessários para consolidarmos o primeiro e o segundo deles, enquanto o terceiro será resultado de uma modelagem matemática proposta ao longo do trabalho.\n",
    "\n",
    "Dessa forma, o seguinte esquema flat atenderia nossas necessidades:\n",
    "\n",
    "![Esquema de dados](../Assets/scheme.png)"
   ]
  },
  {
   "cell_type": "markdown",
   "metadata": {
    "application/vnd.databricks.v1+cell": {
     "cellMetadata": {
      "byteLimit": 2048000,
      "rowLimit": 10000
     },
     "inputWidgets": {},
     "nuid": "b3ae0d68-277a-4784-af8c-e6caede20ff9",
     "showTitle": false,
     "tableResultSettingsMap": {},
     "title": ""
    }
   },
   "source": [
    "## No começo, o final\n",
    "\n",
    "Vamos começar analisando os números finais do projeto.\n",
    "\n",
    "Pouco mais de um ano depois de seu início, o projeto chegou ao fim. Foram inúmeros ajustes ao longo de seu ciclo de vida, algo normal em qualquer projeto de grande porte. \n",
    "\n",
    "Vários remanejamentos de vales-gás foram feitos entre os comitês, já que alguns mostravam-se menos capazes do que se pensava incialmente, enquanto outros estavam ávidos por receber mais recursos e direcioná-los a quem necessitava. Além disso, graças à readequação de despesas e ao hercúleo esforço de negociação de nosso setor financeiro com empresas fornecedoras de GLP, conseguimos aumentar a quantidade prevista inicialmente de 85.000 para 108.259 famílias atendidas. Além disso, para uma fração delas, conseguimos fazer duas entregas extras de vales-gás, totalizando 7 lotes, em vez dos 5 previstos inicialmente.\n",
    "\n",
    "Vamos agora à carga dos dados."
   ]
  },
  {
   "cell_type": "markdown",
   "metadata": {
    "application/vnd.databricks.v1+cell": {
     "cellMetadata": {
      "byteLimit": 2048000,
      "rowLimit": 10000
     },
     "inputWidgets": {},
     "nuid": "40cc7534-37b4-4b70-9b7c-5cb2401da672",
     "showTitle": false,
     "tableResultSettingsMap": {},
     "title": ""
    }
   },
   "source": [
    "## Preparando o Banco de Dados\n",
    "\n",
    "Começamos dropando possíveis instâncias anteriores do Banco de Dados. Na sequência, levantamos o Banco de Dados para, assim, para trabalharmos com estruturas e dados consistentes."
   ]
  },
  {
   "cell_type": "code",
   "execution_count": 0,
   "metadata": {
    "application/vnd.databricks.v1+cell": {
     "cellMetadata": {
      "byteLimit": 2048000,
      "implicitDf": true,
      "rowLimit": 10000
     },
     "inputWidgets": {},
     "nuid": "6ea0b01b-ea47-42e2-8706-a9430a341e56",
     "showTitle": false,
     "tableResultSettingsMap": {},
     "title": ""
    }
   },
   "outputs": [
    {
     "data": {
      "text/html": [
       "<style scoped>\n",
       "  .table-result-container {\n",
       "    max-height: 300px;\n",
       "    overflow: auto;\n",
       "  }\n",
       "  table, th, td {\n",
       "    border: 1px solid black;\n",
       "    border-collapse: collapse;\n",
       "  }\n",
       "  th, td {\n",
       "    padding: 5px;\n",
       "  }\n",
       "  th {\n",
       "    text-align: left;\n",
       "  }\n",
       "</style><div class='table-result-container'><table class='table-result'><thead style='background-color: white'><tr></tr></thead><tbody></tbody></table></div>"
      ]
     },
     "metadata": {
      "application/vnd.databricks.v1+output": {
       "addedWidgets": {},
       "aggData": [],
       "aggError": "",
       "aggOverflow": false,
       "aggSchema": [],
       "aggSeriesLimitReached": false,
       "aggType": "",
       "arguments": {},
       "columnCustomDisplayInfos": {},
       "data": [],
       "datasetInfos": [],
       "dbfsResultPath": null,
       "isJsonSchema": true,
       "metadata": {},
       "overflow": false,
       "plotOptions": {
        "customPlotOptions": {},
        "displayType": "table",
        "pivotAggregation": null,
        "pivotColumns": null,
        "xColumns": null,
        "yColumns": null
       },
       "removedWidgets": [],
       "schema": [],
       "type": "table"
      }
     },
     "output_type": "display_data"
    }
   ],
   "source": [
    "%sql\n",
    "\n",
    "DROP DATABASE IF EXISTS cobertura CASCADE;\n",
    "\n",
    "CREATE DATABASE cobertura;\n",
    "\n",
    "USE cobertura"
   ]
  },
  {
   "cell_type": "markdown",
   "metadata": {
    "application/vnd.databricks.v1+cell": {
     "cellMetadata": {
      "byteLimit": 2048000,
      "rowLimit": 10000
     },
     "inputWidgets": {},
     "nuid": "1994c100-40cc-45c8-b418-ad8d8bda680a",
     "showTitle": false,
     "tableResultSettingsMap": {},
     "title": ""
    }
   },
   "source": [
    "## Fazendo as importações necessárias\n",
    "\n",
    "Começamos importando o Pandas. \n",
    "\n",
    "Mas antes, uma observação: estou ciente da possibilidade de trabalharmos com _alias_. No entanto, ao longo de todo este trabalho, opto por não fazê-lo. Apesar de tornarem o código mais limpo, _alias_ também o tornam mais difícil de serem compreendidos, principalmente quando ainda estamos aprendendo a linguagem.\n"
   ]
  },
  {
   "cell_type": "code",
   "execution_count": 0,
   "metadata": {
    "application/vnd.databricks.v1+cell": {
     "cellMetadata": {
      "byteLimit": 2048000,
      "rowLimit": 10000
     },
     "inputWidgets": {},
     "nuid": "2c3b72df-cc40-48cf-bafe-f7988564e62f",
     "showTitle": false,
     "tableResultSettingsMap": {},
     "title": ""
    }
   },
   "outputs": [],
   "source": [
    "import pandas"
   ]
  },
  {
   "cell_type": "markdown",
   "metadata": {
    "application/vnd.databricks.v1+cell": {
     "cellMetadata": {
      "byteLimit": 2048000,
      "rowLimit": 10000
     },
     "inputWidgets": {},
     "nuid": "9711a129-6bae-4985-b4fb-2ec2fdd4c1c1",
     "showTitle": false,
     "tableResultSettingsMap": {},
     "title": ""
    }
   },
   "source": [
    "## Carregando os dados dos beneficiários\n",
    "\n",
    "Vamos hospedar na variável `csv_beneficiarios` o arquivo csv, hospedado no Google Drive, contendo informações acerca dos beneficiários. \n",
    "\n",
    "**Observação:** O arquivo csv aqui utilizado foi a base de nossa prestação de contas à Petrobras. Precisávamos fornecer dados acerca dos beneficiários atendidos, mas observando a LGPD. Daí termos dados pessoais dos beneficiários anonimizados. "
   ]
  },
  {
   "cell_type": "code",
   "execution_count": 0,
   "metadata": {
    "application/vnd.databricks.v1+cell": {
     "cellMetadata": {
      "byteLimit": 2048000,
      "rowLimit": 10000
     },
     "inputWidgets": {},
     "nuid": "f421598d-fe29-4045-b132-f5b48fe0a1c8",
     "showTitle": false,
     "tableResultSettingsMap": {},
     "title": ""
    }
   },
   "outputs": [],
   "source": [
    "\n",
    "url = \"https://drive.google.com/uc?export=download&id=1GSMAQ_DP-EVwO-Rx20QO1eJ8tE-Lpfry\"\n",
    "csv_beneficiarios = pandas.read_csv(url, delimiter=\";\",low_memory=False)"
   ]
  },
  {
   "cell_type": "markdown",
   "metadata": {
    "application/vnd.databricks.v1+cell": {
     "cellMetadata": {
      "byteLimit": 2048000,
      "rowLimit": 10000
     },
     "inputWidgets": {},
     "nuid": "ab887e32-d38f-4875-bfbe-2510435bc854",
     "showTitle": false,
     "tableResultSettingsMap": {},
     "title": ""
    }
   },
   "source": [
    "## Criando a tabela dos beneficiários\n",
    "\n",
    "Uma vez carregados, vamos utilizar Spark para converter esses dados em um DataFrame, armazenado na variável `df_beneficiarios`. Em seguida, criamos a tabela  `beneficiarios_bronze`."
   ]
  },
  {
   "cell_type": "code",
   "execution_count": 0,
   "metadata": {
    "application/vnd.databricks.v1+cell": {
     "cellMetadata": {
      "byteLimit": 2048000,
      "rowLimit": 10000
     },
     "inputWidgets": {},
     "nuid": "57c39010-2c52-43ef-addb-2ab86cdd43ca",
     "showTitle": false,
     "tableResultSettingsMap": {},
     "title": ""
    }
   },
   "outputs": [],
   "source": [
    "df_beneficiarios = spark.createDataFrame(csv_beneficiarios)\n",
    "df_beneficiarios.write.mode(\"overwrite\").saveAsTable(\"beneficiarios_bronze\");"
   ]
  },
  {
   "cell_type": "markdown",
   "metadata": {
    "application/vnd.databricks.v1+cell": {
     "cellMetadata": {
      "byteLimit": 2048000,
      "rowLimit": 10000
     },
     "inputWidgets": {},
     "nuid": "5198d57f-d8e7-4cef-8c27-204344e3c41e",
     "showTitle": false,
     "tableResultSettingsMap": {},
     "title": ""
    }
   },
   "source": [
    "## Definindo a camada bronze dos dados\n",
    "\n",
    "Chegamos, portanto, à camada bronze de nossos dados. A seguir, uma consulta SQL exibe seus primeiros registros."
   ]
  },
  {
   "cell_type": "code",
   "execution_count": 0,
   "metadata": {
    "application/vnd.databricks.v1+cell": {
     "cellMetadata": {
      "byteLimit": 2048000,
      "implicitDf": true,
      "rowLimit": 10000
     },
     "inputWidgets": {},
     "nuid": "49997c99-52f1-489d-bbb6-6c939dc72600",
     "showTitle": false,
     "tableResultSettingsMap": {},
     "title": ""
    }
   },
   "outputs": [
    {
     "data": {
      "text/html": [
       "<style scoped>\n",
       "  .table-result-container {\n",
       "    max-height: 300px;\n",
       "    overflow: auto;\n",
       "  }\n",
       "  table, th, td {\n",
       "    border: 1px solid black;\n",
       "    border-collapse: collapse;\n",
       "  }\n",
       "  th, td {\n",
       "    padding: 5px;\n",
       "  }\n",
       "  th {\n",
       "    text-align: left;\n",
       "  }\n",
       "</style><div class='table-result-container'><table class='table-result'><thead style='background-color: white'><tr><th>id</th><th>cpf</th><th>nome</th><th>endereco_completo</th><th>comite</th><th>lote</th></tr></thead><tbody><tr><td>1e12fcca</td><td>008.***.***-**</td><td>D******** M*****</td><td>*** **** ********* ********** **, Mãe Luiza, Natal, RN</td><td>Avoante</td><td>1o</td></tr><tr><td>4bb1a31c</td><td>006.***.***-**</td><td>M******* B****** D* A*****</td><td>*** ***** ******* *********, **, *********** *******, Residencial Iolanda, Rio Branco, AC</td><td>Associação Olhar Diferente</td><td>1o</td></tr><tr><td>e1656944</td><td>359.***.***-**</td><td>F******** P****** M********</td><td>*** ***** ******* *********, **, *********** *******, Residencial Iolanda, Rio Branco, AC</td><td>Associação Olhar Diferente</td><td>1o</td></tr><tr><td>3ae7e55d</td><td>042.***.***-**</td><td>K******** S**** D* S**** Q******</td><td>*** ***** ******* *********, **, *********** *******, Residencial Iolanda, Rio Branco, AC</td><td>Associação Olhar Diferente</td><td>1o</td></tr><tr><td>2810dbbf</td><td>018.***.***-**</td><td>V****** F******* D* S****</td><td>*** ***** ******* *********, **, *********** *******, Residencial Iolanda, Rio Branco, AC</td><td>Associação Olhar Diferente</td><td>1o</td></tr><tr><td>fe21dda7</td><td>465.***.***-**</td><td>M**** J***** P*******</td><td>*** ***** *********, ***, **** ** ******, Seis De Agosto, Rio Branco, AC</td><td>Associação Olhar Diferente</td><td>1o</td></tr><tr><td>f2c18f76</td><td>058.***.***-**</td><td>M**** P******* C***** S*****</td><td>*** ********, **, **** ** ******, Seis De Agosto, Rio Branco, AC</td><td>Associação Olhar Diferente</td><td>1o</td></tr><tr><td>ea7d3847</td><td>774.***.***-**</td><td>D******* R*****</td><td>******** *********, **, **** ** ******, Seis De Agosto, Rio Branco, AC</td><td>Associação Olhar Diferente</td><td>1o</td></tr><tr><td>e775ba9b</td><td>579.***.***-**</td><td>F********* I***** D* S**** F****</td><td>******** ********, ***, **** ** ******, Seis De Agosto, Rio Branco, AC</td><td>Associação Olhar Diferente</td><td>1o</td></tr><tr><td>3c8417ec</td><td>714.***.***-**</td><td>M**** D* L****** S**** D* S****</td><td>******** ********, **, **** ** ******, Seis De Agosto, Rio Branco, AC</td><td>Associação Olhar Diferente</td><td>1o</td></tr><tr><td>228f10b7</td><td>573.***.***-**</td><td>M**** J*** D* S**** D* S****</td><td>******** ********, **, **** ** ******, Seis De Agosto, Rio Branco, AC</td><td>Associação Olhar Diferente</td><td>1o</td></tr><tr><td>9d131102</td><td>443.***.***-**</td><td>M**** L**** D* S****</td><td>*** ***** *********, **, **** ** ******, Seis De Agosto, Rio Branco, AC</td><td>Associação Olhar Diferente</td><td>1o</td></tr><tr><td>b97d81b8</td><td>663.***.***-**</td><td>M**** E******* A**** D* S****</td><td>*** ***** *********, ***, **** ** ******, Seis De Agosto, Rio Branco, AC</td><td>Associação Olhar Diferente</td><td>1o</td></tr><tr><td>bc34a4c9</td><td>908.***.***-**</td><td>A** C****** V***** D* S****</td><td>*** ***** *********, **, **** ** ******, Seis De Agosto, Rio Branco, AC</td><td>Associação Olhar Diferente</td><td>1o</td></tr><tr><td>f2cb68bc</td><td>483.***.***-**</td><td>M**** M***** D* S****</td><td>*** ***** *********, ***, **** ** ******, Seis De Agosto, Rio Branco, AC</td><td>Associação Olhar Diferente</td><td>1o</td></tr><tr><td>1ea82a31</td><td>639.***.***-**</td><td>C********* A**** D** S***** A*****</td><td>**** *** ********, ***, **** ** ******, Seis De Agosto, Rio Branco, AC</td><td>Associação Olhar Diferente</td><td>1o</td></tr><tr><td>3bab281e</td><td>874.***.***-**</td><td>M***** A***** D* S****</td><td>*** ***** *********, ***, **** ** ******, Seis De Agosto, Rio Branco, AC</td><td>Associação Olhar Diferente</td><td>1o</td></tr><tr><td>df221a44</td><td>434.***.***-**</td><td>F******** D** C***** M*** D* S****</td><td>*** ***** *********, **, **** ** ******, Seis De Agosto, Rio Branco, AC</td><td>Associação Olhar Diferente</td><td>1o</td></tr><tr><td>47f1dcf0</td><td>920.***.***-**</td><td>C********* G**** D* C****</td><td>*** ***** *********, ***, **** ** ******, Seis De Agosto, Rio Branco, AC</td><td>Associação Olhar Diferente</td><td>1o</td></tr><tr><td>8734d100</td><td>013.***.***-**</td><td>I**** V****** D* S****</td><td>******** ********, **, **** ** ******, Seis De Agosto, Rio Branco, AC</td><td>Associação Olhar Diferente</td><td>1o</td></tr><tr><td>b579c60e</td><td>045.***.***-**</td><td>M**** T***** D* S**** E S****</td><td>******** ********, ***, **** ** ******, Seis De Agosto, Rio Branco, AC</td><td>Associação Olhar Diferente</td><td>1o</td></tr><tr><td>f2fb90ff</td><td>052.***.***-**</td><td>R****** S**** D* S****</td><td>******** *********, ***, **** ** ******, Seis De Agosto, Rio Branco, AC</td><td>Associação Olhar Diferente</td><td>1o</td></tr><tr><td>0acf89b7</td><td>982.***.***-**</td><td>S****** B******** D* S****</td><td>*** ***** *********, ***, **** ** ******, Seis De Agosto, Rio Branco, AC</td><td>Associação Olhar Diferente</td><td>1o</td></tr><tr><td>48864d02</td><td>517.***.***-**</td><td>L**** M**** D* S**** P*******</td><td>*** ***** *********, ***, **** ** ******, Seis De Agosto, Rio Branco, AC</td><td>Associação Olhar Diferente</td><td>1o</td></tr><tr><td>acff4cf7</td><td>967.***.***-**</td><td>F******** G**** D* L***</td><td>*** ** ****, **, ******* ** ******* *********, Mocinha Magalhães, Rio Branco, AC</td><td>Associação Olhar Diferente</td><td>1o</td></tr><tr><td>08948a5b</td><td>035.***.***-**</td><td>M**** F******** R**** D* S****</td><td>*** ** ****, **, ******* ** ******* *********, Mocinha Magalhães, Rio Branco, AC</td><td>Associação Olhar Diferente</td><td>1o</td></tr><tr><td>2df0b1f4</td><td>012.***.***-**</td><td>A******* G**** D* L***</td><td>*** ** ****, **, ******* ** ******* *********, Mocinha Magalhães, Rio Branco, AC</td><td>Associação Olhar Diferente</td><td>1o</td></tr><tr><td>4b753233</td><td>660.***.***-**</td><td>M**** A***** P****** D* N*********</td><td>*** ** ****, **, ******* ** ******* *********, Mocinha Magalhães, Rio Branco, AC</td><td>Associação Olhar Diferente</td><td>1o</td></tr><tr><td>4fab750b</td><td>031.***.***-**</td><td>K**** S******** O*****</td><td>*** ** ****, **, ******* ** ******* *********, Mocinha Magalhães, Rio Branco, AC</td><td>Associação Olhar Diferente</td><td>1o</td></tr><tr><td>9db1a6e5</td><td>994.***.***-**</td><td>E***** S***** D* S**** C******</td><td>*** ** ****, **, ******* ** ******* *********, Mocinha Magalhães, Rio Branco, AC</td><td>Associação Olhar Diferente</td><td>1o</td></tr></tbody></table></div>"
      ]
     },
     "metadata": {
      "application/vnd.databricks.v1+output": {
       "addedWidgets": {},
       "aggData": [],
       "aggError": "",
       "aggOverflow": false,
       "aggSchema": [],
       "aggSeriesLimitReached": false,
       "aggType": "",
       "arguments": {},
       "columnCustomDisplayInfos": {},
       "data": [
        [
         "1e12fcca",
         "008.***.***-**",
         "D******** M*****",
         "*** **** ********* ********** **, Mãe Luiza, Natal, RN",
         "Avoante",
         "1o"
        ],
        [
         "4bb1a31c",
         "006.***.***-**",
         "M******* B****** D* A*****",
         "*** ***** ******* *********, **, *********** *******, Residencial Iolanda, Rio Branco, AC",
         "Associação Olhar Diferente",
         "1o"
        ],
        [
         "e1656944",
         "359.***.***-**",
         "F******** P****** M********",
         "*** ***** ******* *********, **, *********** *******, Residencial Iolanda, Rio Branco, AC",
         "Associação Olhar Diferente",
         "1o"
        ],
        [
         "3ae7e55d",
         "042.***.***-**",
         "K******** S**** D* S**** Q******",
         "*** ***** ******* *********, **, *********** *******, Residencial Iolanda, Rio Branco, AC",
         "Associação Olhar Diferente",
         "1o"
        ],
        [
         "2810dbbf",
         "018.***.***-**",
         "V****** F******* D* S****",
         "*** ***** ******* *********, **, *********** *******, Residencial Iolanda, Rio Branco, AC",
         "Associação Olhar Diferente",
         "1o"
        ],
        [
         "fe21dda7",
         "465.***.***-**",
         "M**** J***** P*******",
         "*** ***** *********, ***, **** ** ******, Seis De Agosto, Rio Branco, AC",
         "Associação Olhar Diferente",
         "1o"
        ],
        [
         "f2c18f76",
         "058.***.***-**",
         "M**** P******* C***** S*****",
         "*** ********, **, **** ** ******, Seis De Agosto, Rio Branco, AC",
         "Associação Olhar Diferente",
         "1o"
        ],
        [
         "ea7d3847",
         "774.***.***-**",
         "D******* R*****",
         "******** *********, **, **** ** ******, Seis De Agosto, Rio Branco, AC",
         "Associação Olhar Diferente",
         "1o"
        ],
        [
         "e775ba9b",
         "579.***.***-**",
         "F********* I***** D* S**** F****",
         "******** ********, ***, **** ** ******, Seis De Agosto, Rio Branco, AC",
         "Associação Olhar Diferente",
         "1o"
        ],
        [
         "3c8417ec",
         "714.***.***-**",
         "M**** D* L****** S**** D* S****",
         "******** ********, **, **** ** ******, Seis De Agosto, Rio Branco, AC",
         "Associação Olhar Diferente",
         "1o"
        ],
        [
         "228f10b7",
         "573.***.***-**",
         "M**** J*** D* S**** D* S****",
         "******** ********, **, **** ** ******, Seis De Agosto, Rio Branco, AC",
         "Associação Olhar Diferente",
         "1o"
        ],
        [
         "9d131102",
         "443.***.***-**",
         "M**** L**** D* S****",
         "*** ***** *********, **, **** ** ******, Seis De Agosto, Rio Branco, AC",
         "Associação Olhar Diferente",
         "1o"
        ],
        [
         "b97d81b8",
         "663.***.***-**",
         "M**** E******* A**** D* S****",
         "*** ***** *********, ***, **** ** ******, Seis De Agosto, Rio Branco, AC",
         "Associação Olhar Diferente",
         "1o"
        ],
        [
         "bc34a4c9",
         "908.***.***-**",
         "A** C****** V***** D* S****",
         "*** ***** *********, **, **** ** ******, Seis De Agosto, Rio Branco, AC",
         "Associação Olhar Diferente",
         "1o"
        ],
        [
         "f2cb68bc",
         "483.***.***-**",
         "M**** M***** D* S****",
         "*** ***** *********, ***, **** ** ******, Seis De Agosto, Rio Branco, AC",
         "Associação Olhar Diferente",
         "1o"
        ],
        [
         "1ea82a31",
         "639.***.***-**",
         "C********* A**** D** S***** A*****",
         "**** *** ********, ***, **** ** ******, Seis De Agosto, Rio Branco, AC",
         "Associação Olhar Diferente",
         "1o"
        ],
        [
         "3bab281e",
         "874.***.***-**",
         "M***** A***** D* S****",
         "*** ***** *********, ***, **** ** ******, Seis De Agosto, Rio Branco, AC",
         "Associação Olhar Diferente",
         "1o"
        ],
        [
         "df221a44",
         "434.***.***-**",
         "F******** D** C***** M*** D* S****",
         "*** ***** *********, **, **** ** ******, Seis De Agosto, Rio Branco, AC",
         "Associação Olhar Diferente",
         "1o"
        ],
        [
         "47f1dcf0",
         "920.***.***-**",
         "C********* G**** D* C****",
         "*** ***** *********, ***, **** ** ******, Seis De Agosto, Rio Branco, AC",
         "Associação Olhar Diferente",
         "1o"
        ],
        [
         "8734d100",
         "013.***.***-**",
         "I**** V****** D* S****",
         "******** ********, **, **** ** ******, Seis De Agosto, Rio Branco, AC",
         "Associação Olhar Diferente",
         "1o"
        ],
        [
         "b579c60e",
         "045.***.***-**",
         "M**** T***** D* S**** E S****",
         "******** ********, ***, **** ** ******, Seis De Agosto, Rio Branco, AC",
         "Associação Olhar Diferente",
         "1o"
        ],
        [
         "f2fb90ff",
         "052.***.***-**",
         "R****** S**** D* S****",
         "******** *********, ***, **** ** ******, Seis De Agosto, Rio Branco, AC",
         "Associação Olhar Diferente",
         "1o"
        ],
        [
         "0acf89b7",
         "982.***.***-**",
         "S****** B******** D* S****",
         "*** ***** *********, ***, **** ** ******, Seis De Agosto, Rio Branco, AC",
         "Associação Olhar Diferente",
         "1o"
        ],
        [
         "48864d02",
         "517.***.***-**",
         "L**** M**** D* S**** P*******",
         "*** ***** *********, ***, **** ** ******, Seis De Agosto, Rio Branco, AC",
         "Associação Olhar Diferente",
         "1o"
        ],
        [
         "acff4cf7",
         "967.***.***-**",
         "F******** G**** D* L***",
         "*** ** ****, **, ******* ** ******* *********, Mocinha Magalhães, Rio Branco, AC",
         "Associação Olhar Diferente",
         "1o"
        ],
        [
         "08948a5b",
         "035.***.***-**",
         "M**** F******** R**** D* S****",
         "*** ** ****, **, ******* ** ******* *********, Mocinha Magalhães, Rio Branco, AC",
         "Associação Olhar Diferente",
         "1o"
        ],
        [
         "2df0b1f4",
         "012.***.***-**",
         "A******* G**** D* L***",
         "*** ** ****, **, ******* ** ******* *********, Mocinha Magalhães, Rio Branco, AC",
         "Associação Olhar Diferente",
         "1o"
        ],
        [
         "4b753233",
         "660.***.***-**",
         "M**** A***** P****** D* N*********",
         "*** ** ****, **, ******* ** ******* *********, Mocinha Magalhães, Rio Branco, AC",
         "Associação Olhar Diferente",
         "1o"
        ],
        [
         "4fab750b",
         "031.***.***-**",
         "K**** S******** O*****",
         "*** ** ****, **, ******* ** ******* *********, Mocinha Magalhães, Rio Branco, AC",
         "Associação Olhar Diferente",
         "1o"
        ],
        [
         "9db1a6e5",
         "994.***.***-**",
         "E***** S***** D* S**** C******",
         "*** ** ****, **, ******* ** ******* *********, Mocinha Magalhães, Rio Branco, AC",
         "Associação Olhar Diferente",
         "1o"
        ]
       ],
       "datasetInfos": [],
       "dbfsResultPath": null,
       "isJsonSchema": true,
       "metadata": {},
       "overflow": false,
       "plotOptions": {
        "customPlotOptions": {},
        "displayType": "table",
        "pivotAggregation": null,
        "pivotColumns": null,
        "xColumns": null,
        "yColumns": null
       },
       "removedWidgets": [],
       "schema": [
        {
         "metadata": "{}",
         "name": "id",
         "type": "\"string\""
        },
        {
         "metadata": "{}",
         "name": "cpf",
         "type": "\"string\""
        },
        {
         "metadata": "{}",
         "name": "nome",
         "type": "\"string\""
        },
        {
         "metadata": "{}",
         "name": "endereco_completo",
         "type": "\"string\""
        },
        {
         "metadata": "{}",
         "name": "comite",
         "type": "\"string\""
        },
        {
         "metadata": "{}",
         "name": "lote",
         "type": "\"string\""
        }
       ],
       "type": "table"
      }
     },
     "output_type": "display_data"
    }
   ],
   "source": [
    "%sql\n",
    "\n",
    "SELECT \n",
    "  * \n",
    "FROM \n",
    "  beneficiarios_bronze\n",
    "LIMIT \n",
    "  30"
   ]
  },
  {
   "cell_type": "markdown",
   "metadata": {
    "application/vnd.databricks.v1+cell": {
     "cellMetadata": {
      "byteLimit": 2048000,
      "rowLimit": 10000
     },
     "inputWidgets": {},
     "nuid": "16629346-bdf5-4ce7-b47a-7597c5c4d583",
     "showTitle": false,
     "tableResultSettingsMap": {},
     "title": ""
    }
   },
   "source": [
    "\n",
    "## Definindo o catálogo de dados da camada bronze\n",
    "\n",
    "Vamos conhecer melhor nossos dados através de seus metadados:\n",
    "\n",
    "| Atributo | Tipo de Dado | Descrição | Domínio | Observações |\n",
    "|---|---|---|---|---|\n",
    "| id | Texto (UUID) | Identificador único do registro (Chave Primária) | 00000000 a ffffffff | Identificador hexadecimal de 8 dígitos gerado automaticamente |\n",
    "| cpf | Texto | Cadastro de Pessoa Física do beneficiário |  | Dados parcialmente mascarados |\n",
    "| nome | Texto | Nome do beneficiário |  | Dados parcialmente mascarados |\n",
    "| endereco_completo | Texto | Endereço completo do beneficiário (logradouro, no., complemento, bairro, cidade, UF) | Restrito às cidades e Ufs definidas no escopo do projeto | Dados parcialmente mascarados |\n",
    "| comite | Texto | Nome do comitê responsável pelo cadastro e acompanhamento do beneficiário | Restrito aos comitês participantes do projeto |  |\n",
    "| lote | Texto | Lote no qual o beneficiário foi cadastrado no projeto | 1o, 2o, 3o, 4o, 5o, Extra 1, Extra 2 | Usado para logística/controle |\n",
    "\n",
    "\n",
    "\n"
   ]
  },
  {
   "cell_type": "markdown",
   "metadata": {
    "application/vnd.databricks.v1+cell": {
     "cellMetadata": {
      "byteLimit": 2048000,
      "rowLimit": 10000
     },
     "inputWidgets": {},
     "nuid": "6d102a50-57e8-4197-8f15-6e04e462e18d",
     "showTitle": false,
     "tableResultSettingsMap": {},
     "title": ""
    }
   },
   "source": [
    "## Limpando os dados\n",
    "\n",
    "Como podemos ver na camada bronze, há diversas informações irrelevantes para nossa análise, como `cpf`, `nome` e `lote`. Além disso, o atributo `endereco_completo` não está atomizado, contendo logradouro, número, complemento, bairro, município e UF do beneficiário. \n",
    "\n",
    "Para conseguirmos fazer nossa análise, precisamos obter o atributo `uf` a partir de `endereco_completo`. Além disso, prevendo a necessidade de futuras análises mais granuladas, podemos manter o atributo `comite`, além de obtermos o novo atributo `municipio`, também a partir de `endereco_completo`. \n",
    "\n",
    "Como todo endereço completo tem seus componentes separados por vírgula, além de apresentar município e UF como o penúltimo e o último elemento, respectivamente, podemos conjugar as funções `element_at()` e `split()` para obtermos os dois novos atributos `municipio` e `uf`."
   ]
  },
  {
   "cell_type": "markdown",
   "metadata": {
    "application/vnd.databricks.v1+cell": {
     "cellMetadata": {
      "byteLimit": 2048000,
      "rowLimit": 10000
     },
     "inputWidgets": {},
     "nuid": "dde4cd71-9aed-4fda-9b95-22f9616873d9",
     "showTitle": false,
     "tableResultSettingsMap": {},
     "title": ""
    }
   },
   "source": [
    "## Definindo a camada prata dos dados\n",
    "\n",
    "Chegamos, portanto, à camada prata de nossos dados. A seguir, uma consulta SQL exibe seus primeiros registros:"
   ]
  },
  {
   "cell_type": "code",
   "execution_count": 0,
   "metadata": {
    "application/vnd.databricks.v1+cell": {
     "cellMetadata": {
      "byteLimit": 2048000,
      "implicitDf": true,
      "rowLimit": 10000
     },
     "inputWidgets": {},
     "nuid": "2dc31e8b-7467-4b92-aa79-98731b43a170",
     "showTitle": false,
     "tableResultSettingsMap": {},
     "title": ""
    }
   },
   "outputs": [
    {
     "data": {
      "text/html": [
       "<style scoped>\n",
       "  .table-result-container {\n",
       "    max-height: 300px;\n",
       "    overflow: auto;\n",
       "  }\n",
       "  table, th, td {\n",
       "    border: 1px solid black;\n",
       "    border-collapse: collapse;\n",
       "  }\n",
       "  th, td {\n",
       "    padding: 5px;\n",
       "  }\n",
       "  th {\n",
       "    text-align: left;\n",
       "  }\n",
       "</style><div class='table-result-container'><table class='table-result'><thead style='background-color: white'><tr><th>id</th><th>comite</th><th>municipio</th><th>uf</th></tr></thead><tbody><tr><td>000000ec</td><td>Conselho Quilombola</td><td>Vitoria da Conquista</td><td>BA</td></tr><tr><td>0000928f</td><td>Cáritas Piauí</td><td>Nossa Senhora dos Remédios</td><td>PI</td></tr><tr><td>0001f9f2</td><td>Comitê Curitiba</td><td>Piraquara</td><td>PR</td></tr><tr><td>0003bd67</td><td>Comitê Amazonas</td><td>Novo Airão</td><td>AM</td></tr><tr><td>0003db02</td><td>Comitê Amazonas</td><td>Novo Airão</td><td>AM</td></tr><tr><td>0004b92f</td><td>IMADEL</td><td>Guapimirim</td><td>RJ</td></tr><tr><td>0004f6c9</td><td>Comitê Maranhão</td><td>Tutóia</td><td>MA</td></tr><tr><td>0005d613</td><td>Arte e Vida</td><td>Arapongas</td><td>PR</td></tr><tr><td>00069ff8</td><td>INEC</td><td>Pacatuba</td><td>CE</td></tr><tr><td>00076e5f</td><td>Arebeldia</td><td>Belo Horizonte</td><td>MG</td></tr><tr><td>0008421f</td><td>Associação Olhar Diferente</td><td>Porto Acre</td><td>AC</td></tr><tr><td>0008e7cb</td><td>Pernambuco Solidário</td><td>Pombos</td><td>PE</td></tr><tr><td>000902e2</td><td>Comitê Amazonas</td><td>Itacoatiara</td><td>AM</td></tr><tr><td>00098d00</td><td>Conselho Quilombola</td><td>Vitória Da Conquista</td><td>BA</td></tr><tr><td>000a4ff3</td><td>Comitê São Paulo</td><td>Atibaia</td><td>SP</td></tr><tr><td>000afeea</td><td>Associação Olhar Diferente</td><td>Porto Acre</td><td>AC</td></tr><tr><td>000ba3fc</td><td>Comitê Sul da Bahia</td><td>Pau Brasil</td><td>BA</td></tr><tr><td>000bab79</td><td>Conselho Quilombola</td><td>Vitoria da Conquista</td><td>BA</td></tr><tr><td>000c53cf</td><td>Comitê São Paulo</td><td>Atibaia</td><td>SP</td></tr><tr><td>000cd34e</td><td>Arebeldia</td><td>Belo Horizonte</td><td>MG</td></tr><tr><td>000daa90</td><td>Cáritas Regional NE2</td><td>João Pessoa</td><td>PB</td></tr><tr><td>000dc624</td><td>Pernambuco Solidário</td><td>Pombos</td><td>PE</td></tr><tr><td>000de1cf</td><td>Conselho Quilombola</td><td>Vitoria da Conquista</td><td>BA</td></tr><tr><td>000ecb3c</td><td>Comitê Maranhão</td><td>Tutóia</td><td>MA</td></tr><tr><td>000efa27</td><td>Comitê Maranhão</td><td>Itapecuru</td><td>MA</td></tr><tr><td>000f1951</td><td>Pernambuco Solidário</td><td>Pesqueira</td><td>PE</td></tr><tr><td>000f811e</td><td>Comitê Amazonas</td><td>Manaus</td><td>AM</td></tr><tr><td>000fd843</td><td>Comitê São Paulo</td><td>Taboão da Serra</td><td>SP</td></tr><tr><td>000fe4e5</td><td>Conselho Quilombola</td><td>Vitoria da Conquista</td><td>BA</td></tr><tr><td>0010a9bf</td><td>IMADEL</td><td>Guapimirim</td><td>RJ</td></tr></tbody></table></div>"
      ]
     },
     "metadata": {
      "application/vnd.databricks.v1+output": {
       "addedWidgets": {},
       "aggData": [],
       "aggError": "",
       "aggOverflow": false,
       "aggSchema": [],
       "aggSeriesLimitReached": false,
       "aggType": "",
       "arguments": {},
       "columnCustomDisplayInfos": {},
       "data": [
        [
         "000000ec",
         "Conselho Quilombola",
         "Vitoria da Conquista",
         "BA"
        ],
        [
         "0000928f",
         "Cáritas Piauí",
         "Nossa Senhora dos Remédios",
         "PI"
        ],
        [
         "0001f9f2",
         "Comitê Curitiba",
         "Piraquara",
         "PR"
        ],
        [
         "0003bd67",
         "Comitê Amazonas",
         "Novo Airão",
         "AM"
        ],
        [
         "0003db02",
         "Comitê Amazonas",
         "Novo Airão",
         "AM"
        ],
        [
         "0004b92f",
         "IMADEL",
         "Guapimirim",
         "RJ"
        ],
        [
         "0004f6c9",
         "Comitê Maranhão",
         "Tutóia",
         "MA"
        ],
        [
         "0005d613",
         "Arte e Vida",
         "Arapongas",
         "PR"
        ],
        [
         "00069ff8",
         "INEC",
         "Pacatuba",
         "CE"
        ],
        [
         "00076e5f",
         "Arebeldia",
         "Belo Horizonte",
         "MG"
        ],
        [
         "0008421f",
         "Associação Olhar Diferente",
         "Porto Acre",
         "AC"
        ],
        [
         "0008e7cb",
         "Pernambuco Solidário",
         "Pombos",
         "PE"
        ],
        [
         "000902e2",
         "Comitê Amazonas",
         "Itacoatiara",
         "AM"
        ],
        [
         "00098d00",
         "Conselho Quilombola",
         "Vitória Da Conquista",
         "BA"
        ],
        [
         "000a4ff3",
         "Comitê São Paulo",
         "Atibaia",
         "SP"
        ],
        [
         "000afeea",
         "Associação Olhar Diferente",
         "Porto Acre",
         "AC"
        ],
        [
         "000ba3fc",
         "Comitê Sul da Bahia",
         "Pau Brasil",
         "BA"
        ],
        [
         "000bab79",
         "Conselho Quilombola",
         "Vitoria da Conquista",
         "BA"
        ],
        [
         "000c53cf",
         "Comitê São Paulo",
         "Atibaia",
         "SP"
        ],
        [
         "000cd34e",
         "Arebeldia",
         "Belo Horizonte",
         "MG"
        ],
        [
         "000daa90",
         "Cáritas Regional NE2",
         "João Pessoa",
         "PB"
        ],
        [
         "000dc624",
         "Pernambuco Solidário",
         "Pombos",
         "PE"
        ],
        [
         "000de1cf",
         "Conselho Quilombola",
         "Vitoria da Conquista",
         "BA"
        ],
        [
         "000ecb3c",
         "Comitê Maranhão",
         "Tutóia",
         "MA"
        ],
        [
         "000efa27",
         "Comitê Maranhão",
         "Itapecuru",
         "MA"
        ],
        [
         "000f1951",
         "Pernambuco Solidário",
         "Pesqueira",
         "PE"
        ],
        [
         "000f811e",
         "Comitê Amazonas",
         "Manaus",
         "AM"
        ],
        [
         "000fd843",
         "Comitê São Paulo",
         "Taboão da Serra",
         "SP"
        ],
        [
         "000fe4e5",
         "Conselho Quilombola",
         "Vitoria da Conquista",
         "BA"
        ],
        [
         "0010a9bf",
         "IMADEL",
         "Guapimirim",
         "RJ"
        ]
       ],
       "datasetInfos": [],
       "dbfsResultPath": null,
       "isJsonSchema": true,
       "metadata": {},
       "overflow": false,
       "plotOptions": {
        "customPlotOptions": {},
        "displayType": "table",
        "pivotAggregation": null,
        "pivotColumns": null,
        "xColumns": null,
        "yColumns": null
       },
       "removedWidgets": [],
       "schema": [
        {
         "metadata": "{}",
         "name": "id",
         "type": "\"string\""
        },
        {
         "metadata": "{}",
         "name": "comite",
         "type": "\"string\""
        },
        {
         "metadata": "{}",
         "name": "municipio",
         "type": "\"string\""
        },
        {
         "metadata": "{}",
         "name": "uf",
         "type": "\"string\""
        }
       ],
       "type": "table"
      }
     },
     "output_type": "display_data"
    }
   ],
   "source": [
    "%sql\n",
    "\n",
    "CREATE OR REPLACE TABLE beneficiarios_silver AS\n",
    "SELECT\n",
    "  id,\n",
    "  comite,\n",
    "  trim(element_at(split(endereco_completo, ','), -2)) AS municipio,\n",
    "  trim(element_at(split(endereco_completo, ','), -1)) AS uf\n",
    "FROM \n",
    "  beneficiarios_bronze\n",
    "WHERE \n",
    "  endereco_completo IS NOT NULL;\n",
    "\n",
    "SELECT \n",
    "  * \n",
    "FROM \n",
    "  beneficiarios_silver\n",
    "ORDER BY \n",
    "  id\n",
    "LIMIT\n",
    "  30"
   ]
  },
  {
   "cell_type": "markdown",
   "metadata": {
    "application/vnd.databricks.v1+cell": {
     "cellMetadata": {
      "byteLimit": 2048000,
      "rowLimit": 10000
     },
     "inputWidgets": {},
     "nuid": "c266e8d8-9bb7-4533-9ead-2cb723cb4419",
     "showTitle": false,
     "tableResultSettingsMap": {},
     "title": ""
    }
   },
   "source": [
    "\n",
    "\n",
    "## Definindo o catálogo de dados da camada prata\n",
    "\n",
    "Vamos conhecer melhor nossos dados através de seus metadados:\n",
    "\n",
    "| Atributo | Tipo de Dado | Descrição | Domínio | Observações |\n",
    "|---|---|---|---|---|\n",
    "| id | Texto (UUID) | Identificador único do registro (Chave Primária) | 00000000 a ffffffff | Identificador hexadecimal de 8 dígitos gerado automaticamente |\n",
    "| comite | Texto | Nome do comitê responsável pelo cadastro e acompanhamento do beneficiário | Restrito aos comitês participantes do projeto |  |\n",
    "| municipio | Texto | Município obtido a partir do endereço completo | Restrito aos municípios definidos no escopo do projeto |  |\n",
    "| uf | Texto | UF obtida a partir do endereço completo | AC, AL, AM, AP, BA, CE, DF, ES, GO, MA, MG, MS, MT, PA, PB, PE, PI, PR, RJ, RN, RO, RR, RS, SC, SE, SP, TO |  |\n"
   ]
  },
  {
   "cell_type": "markdown",
   "metadata": {
    "application/vnd.databricks.v1+cell": {
     "cellMetadata": {
      "byteLimit": 2048000,
      "rowLimit": 10000
     },
     "inputWidgets": {},
     "nuid": "4b832b8d-03a5-4d40-91c7-aad91569dafc",
     "showTitle": false,
     "tableResultSettingsMap": {},
     "title": ""
    }
   },
   "source": [
    "## Criando uma nova view dos beneficiários agrupados por UF"
   ]
  },
  {
   "cell_type": "code",
   "execution_count": 0,
   "metadata": {
    "application/vnd.databricks.v1+cell": {
     "cellMetadata": {
      "byteLimit": 2048000,
      "implicitDf": true,
      "rowLimit": 10000
     },
     "inputWidgets": {},
     "nuid": "a0cb488d-b2b8-4247-9b67-b9ee0396dc86",
     "showTitle": false,
     "tableResultSettingsMap": {},
     "title": ""
    }
   },
   "outputs": [
    {
     "data": {
      "text/html": [
       "<style scoped>\n",
       "  .table-result-container {\n",
       "    max-height: 300px;\n",
       "    overflow: auto;\n",
       "  }\n",
       "  table, th, td {\n",
       "    border: 1px solid black;\n",
       "    border-collapse: collapse;\n",
       "  }\n",
       "  th, td {\n",
       "    padding: 5px;\n",
       "  }\n",
       "  th {\n",
       "    text-align: left;\n",
       "  }\n",
       "</style><div class='table-result-container'><table class='table-result'><thead style='background-color: white'><tr><th>uf</th><th>publico_atendido</th></tr></thead><tbody><tr><td>AC</td><td>824</td></tr><tr><td>AL</td><td>3835</td></tr><tr><td>AM</td><td>3833</td></tr><tr><td>AP</td><td>690</td></tr><tr><td>BA</td><td>17573</td></tr><tr><td>CE</td><td>6985</td></tr><tr><td>DF</td><td>1433</td></tr><tr><td>ES</td><td>791</td></tr><tr><td>GO</td><td>1623</td></tr><tr><td>MA</td><td>8981</td></tr><tr><td>MG</td><td>9242</td></tr><tr><td>MS</td><td>755</td></tr><tr><td>MT</td><td>455</td></tr><tr><td>PA</td><td>6631</td></tr><tr><td>PB</td><td>2959</td></tr><tr><td>PE</td><td>6971</td></tr><tr><td>PI</td><td>2906</td></tr><tr><td>PR</td><td>6389</td></tr><tr><td>RJ</td><td>4053</td></tr><tr><td>RN</td><td>2304</td></tr><tr><td>RO</td><td>552</td></tr><tr><td>RR</td><td>357</td></tr><tr><td>RS</td><td>3069</td></tr><tr><td>SC</td><td>488</td></tr><tr><td>SE</td><td>2045</td></tr><tr><td>SP</td><td>11886</td></tr><tr><td>TO</td><td>629</td></tr></tbody></table></div>"
      ]
     },
     "metadata": {
      "application/vnd.databricks.v1+output": {
       "addedWidgets": {},
       "aggData": [],
       "aggError": "",
       "aggOverflow": false,
       "aggSchema": [],
       "aggSeriesLimitReached": false,
       "aggType": "",
       "arguments": {},
       "columnCustomDisplayInfos": {},
       "data": [
        [
         "AC",
         824
        ],
        [
         "AL",
         3835
        ],
        [
         "AM",
         3833
        ],
        [
         "AP",
         690
        ],
        [
         "BA",
         17573
        ],
        [
         "CE",
         6985
        ],
        [
         "DF",
         1433
        ],
        [
         "ES",
         791
        ],
        [
         "GO",
         1623
        ],
        [
         "MA",
         8981
        ],
        [
         "MG",
         9242
        ],
        [
         "MS",
         755
        ],
        [
         "MT",
         455
        ],
        [
         "PA",
         6631
        ],
        [
         "PB",
         2959
        ],
        [
         "PE",
         6971
        ],
        [
         "PI",
         2906
        ],
        [
         "PR",
         6389
        ],
        [
         "RJ",
         4053
        ],
        [
         "RN",
         2304
        ],
        [
         "RO",
         552
        ],
        [
         "RR",
         357
        ],
        [
         "RS",
         3069
        ],
        [
         "SC",
         488
        ],
        [
         "SE",
         2045
        ],
        [
         "SP",
         11886
        ],
        [
         "TO",
         629
        ]
       ],
       "datasetInfos": [],
       "dbfsResultPath": null,
       "isJsonSchema": true,
       "metadata": {},
       "overflow": false,
       "plotOptions": {
        "customPlotOptions": {},
        "displayType": "table",
        "pivotAggregation": null,
        "pivotColumns": null,
        "xColumns": null,
        "yColumns": null
       },
       "removedWidgets": [],
       "schema": [
        {
         "metadata": "{}",
         "name": "uf",
         "type": "\"string\""
        },
        {
         "metadata": "{}",
         "name": "publico_atendido",
         "type": "\"long\""
        }
       ],
       "type": "table"
      }
     },
     "output_type": "display_data"
    },
    {
     "data": {
      "text/plain": [
       "Databricks visualization. Run in Databricks to view."
      ]
     },
     "metadata": {
      "application/vnd.databricks.v1.subcommand+json": {
       "baseErrorDetails": null,
       "bindings": {},
       "collapsed": false,
       "command": "%sql WITH q AS (SELECT * FROM beneficiarios_por_uf\nORDER BY uf) SELECT `UF`,SUM(`Quantidade/UF`) `column_c70f46c929` FROM q GROUP BY `UF`",
       "commandTitle": "Beneficiários por UF",
       "commandType": "auto",
       "commandVersion": 0,
       "commentThread": [],
       "commentsVisible": false,
       "contentSha256Hex": null,
       "customPlotOptions": {
        "redashChart": [
         {
          "key": "type",
          "value": "CHART"
         },
         {
          "key": "options",
          "value": {
           "alignYAxesAtZero": true,
           "coefficient": 1,
           "columnConfigurationMap": {
            "x": {
             "column": "UF",
             "id": "column_c70f46c928"
            },
            "y": [
             {
              "column": "Quantidade/UF",
              "id": "column_c70f46c929",
              "transform": "SUM"
             }
            ]
           },
           "dateTimeFormat": "DD/MM/YYYY HH:mm",
           "direction": {
            "type": "counterclockwise"
           },
           "error_y": {
            "type": "data",
            "visible": true
           },
           "globalSeriesType": "column",
           "isAggregationOn": true,
           "legend": {
            "traceorder": "normal"
           },
           "missingValuesAsZero": true,
           "numberFormat": "0,0.[00000]",
           "percentFormat": "0[.]00%",
           "series": {
            "error_y": {
             "type": "data",
             "visible": true
            },
            "stacking": null
           },
           "seriesOptions": {
            "column_c70f46c929": {
             "name": "Quantidade/UF",
             "yAxis": 0
            }
           },
           "showDataLabels": false,
           "sizemode": "diameter",
           "sortX": true,
           "sortY": true,
           "swappedAxes": false,
           "textFormat": "",
           "useAggregationsUi": true,
           "valuesOptions": {},
           "version": 2,
           "xAxis": {
            "labels": {
             "enabled": true
            },
            "type": "-"
           },
           "yAxis": [
            {
             "type": "-"
            },
            {
             "opposite": true,
             "type": "-"
            }
           ]
          }
         }
        ]
       },
       "datasetPreviewNameToCmdIdMap": {},
       "diffDeletes": [],
       "diffInserts": [],
       "displayType": "redashChart",
       "error": null,
       "errorDetails": null,
       "errorSummary": null,
       "errorTraceType": null,
       "finishTime": 0,
       "globalVars": {},
       "guid": "",
       "height": "auto",
       "hideCommandCode": false,
       "hideCommandResult": false,
       "iPythonMetadata": null,
       "inputWidgets": {},
       "isLockedInExamMode": false,
       "latestUser": "a user",
       "latestUserId": null,
       "listResultMetadata": null,
       "metadata": {
        "byteLimit": 2048000,
        "implicitDf": true,
        "rowLimit": 10000
       },
       "nuid": "944eac86-dfaf-456e-a8a9-2494326e4903",
       "origId": 0,
       "parentHierarchy": [],
       "pivotAggregation": null,
       "pivotColumns": null,
       "position": 7,
       "resultDbfsErrorMessage": null,
       "resultDbfsStatus": "INLINED_IN_TREE",
       "results": null,
       "showCommandTitle": false,
       "startTime": 0,
       "state": "finished",
       "streamStates": {},
       "subcommandOptions": {
        "queryPlan": {
         "groups": [
          {
           "column": "UF",
           "type": "column"
          }
         ],
         "selects": [
          {
           "column": "UF",
           "type": "column"
          },
          {
           "alias": "column_c70f46c929",
           "args": [
            {
             "column": "Quantidade/UF",
             "type": "column"
            }
           ],
           "function": "SUM",
           "type": "function"
          }
         ]
        }
       },
       "submitTime": 0,
       "subtype": "tableResultSubCmd.visualization",
       "tableResultIndex": 0,
       "tableResultSettingsMap": {},
       "useConsistentColors": false,
       "version": "CommandV1",
       "width": "auto",
       "workflows": [],
       "xColumns": null,
       "yColumns": null
      }
     },
     "output_type": "display_data"
    }
   ],
   "source": [
    "%sql\n",
    "\n",
    "CREATE OR REPLACE TEMP VIEW beneficiarios_por_uf AS\n",
    "SELECT\n",
    "  uf,\n",
    "  COUNT(*) AS publico_atendido\n",
    "FROM beneficiarios_silver\n",
    "GROUP BY uf;\n",
    "\n",
    "SELECT * FROM beneficiarios_por_uf\n",
    "ORDER BY uf"
   ]
  },
  {
   "cell_type": "markdown",
   "metadata": {
    "application/vnd.databricks.v1+cell": {
     "cellMetadata": {
      "byteLimit": 2048000,
      "rowLimit": 10000
     },
     "inputWidgets": {},
     "nuid": "afe081e1-e110-41a2-9265-b18d9e62e08b",
     "showTitle": false,
     "tableResultSettingsMap": {},
     "title": ""
    }
   },
   "source": [
    "## Fazendo nossa primeira análise\n",
    "\n",
    "Neste momento, já podemos fazer nossa primeira análise dos dados, verificando a distribuição de recursos do projeto por todo o território nacional.\n",
    "\n",
    "![Distribuição real de recursos do projeto](../Assets/grafico_1.png)"
   ]
  },
  {
   "cell_type": "markdown",
   "metadata": {
    "application/vnd.databricks.v1+cell": {
     "cellMetadata": {
      "byteLimit": 2048000,
      "rowLimit": 10000
     },
     "inputWidgets": {},
     "nuid": "7e30dd7f-8cd3-48fd-a07b-660595a92ac8",
     "showTitle": false,
     "tableResultSettingsMap": {},
     "title": ""
    }
   },
   "source": [
    "## Real X Ideal\n",
    "\n",
    "No gráfico acima, temos a distribuição real dos recrusos do projeto por UF. Mas, com base nas perguntas propostas, qual seria a distribuição ideal destes recursos?\n",
    "\n",
    "Para isso, pensei em criar uma metodologia simples, utilizando dois indicadores: o IDH e a população total da UF. "
   ]
  },
  {
   "cell_type": "markdown",
   "metadata": {
    "application/vnd.databricks.v1+cell": {
     "cellMetadata": {
      "byteLimit": 2048000,
      "rowLimit": 10000
     },
     "inputWidgets": {},
     "nuid": "1cbfc5d8-4f70-4dfe-86f6-2311cadc1a10",
     "showTitle": false,
     "tableResultSettingsMap": {},
     "title": ""
    }
   },
   "source": [
    "## Os Indicadores\n",
    "\n",
    "O Índice de Desenvolvimento Humano (IDH) das UFs do Brasil é calculado pelo Programa das Nações Unidas para o Desenvolvimento (PNUD), em parceria com o Instituto de Pesquisa Econômica APlicada (IPEA) e a Fundação João Pinheiro. Seu último cálculo foi realizado em 2021.\n",
    "\n",
    "As populações totais das UFs, por sua vez, podem ser obitdas a partir do último censo concluído, cujo ano de referência é 2022, realizado pelo Instituto Brasileiro de Geografia e Estatística (IBGE).\n",
    "\n",
    "Mas como relacionar o público-alvo ideal, IDH e população total?"
   ]
  },
  {
   "cell_type": "markdown",
   "metadata": {
    "application/vnd.databricks.v1+cell": {
     "cellMetadata": {
      "byteLimit": 2048000,
      "rowLimit": 10000
     },
     "inputWidgets": {},
     "nuid": "02715194-4e02-4288-9341-7a459cfaac52",
     "showTitle": false,
     "tableResultSettingsMap": {},
     "title": ""
    }
   },
   "source": [
    "## Construindo a Modelagem Matemática\n",
    "\n",
    "\n",
    "Vamos criar um modelo matemático para calcular o público-alvo ideal de cada UF. Para isso, vamos trabalhar com três variáveis:\n",
    "\n",
    "### Variáveis:\n",
    "\n",
    "$$\n",
    "\\text{ }\\\\\n",
    "\\left\\{\n",
    "\\begin{array}{ll}\n",
    "p \\to \\text{Público-alvo ideal que deveria ser atendido por UF (variável dependente);} \\\\\n",
    "I \\to \\text{IDH da UF (variável independente);} \\\\\n",
    "T \\to \\text{População total da UF (variável independente).}\n",
    "\\end{array}\n",
    "\\right.\\\\\n",
    "\\text{ }\\\\\n",
    "$$\n",
    "\n",
    "### Relações entre as variáveis:\n",
    "\n",
    "Temos que $p$ e $I$ devem ser inversamente proporcionais, pois Ufs de **menor** IDH idealmente deveriam receber **maior** aporte de recursos. Já $p$ e $T$ devem ser diretamente proporcionais, pois UFs de **maior** população total deveriam receber **maior** aporte de recursos.\n",
    "\n",
    "Resumindo:\n",
    "$$\n",
    "\\text{ }\\\\\n",
    "\\left\\{\n",
    "    \\begin{array}{ll}\n",
    "    p \\text{ e } I \\to \\text{Inversamente proporcionais;} \\\\\n",
    "    p \\text{ e } T \\to \\text{Diretamente proporcionais.}\n",
    "\\end{array}\n",
    "\\right.\\\\\n",
    "\\text{ }\\\\\n",
    "$$\n",
    "\n",
    "Assim, chegamos à relação abaixo, onde $K$ é uma constante de proporcionalidade:\n",
    "$$\n",
    "\\text{ }\\\\\n",
    "\\frac{p \\cdot I}{T}=K\\\\\n",
    "\\text{ }\\\\\n",
    "$$\n",
    "\n",
    "Essa relação pode ser reescrita da seguinte forma:\n",
    "$$\n",
    "\\text{ }\\\\\n",
    "\\frac{p}{\\frac{T}{I}}=K\\\\\n",
    "\\text{ }\\\\\n",
    "$$\n",
    "\n",
    "Ao termo $\\frac{T}{I}$ daremos o nome de **Índice Beija-Flor**, representado por $B$, em homenagem à famosa fábula do Beija-Flor, que ilustra a importância de pequenos gestos no combate a grandes problemas.\n",
    "\n",
    "Para saber mais: [A Fábula do Beija-Flor](https://www.youtube.com/watch?v=qow1qZNi1Og)\n",
    "\n",
    "Temos, portanto:\n",
    "$$\n",
    "\\begin{array}{cc}\n",
    "\\text{ }\\\\\n",
    "\\dfrac{p}{B}=K \\\\ \n",
    "\\\\ \\text{ } \\\\\n",
    "\\fbox{$p=k \\cdot B$} \\\\ \n",
    "\\tiny {\\text{(Fórmula 1)}}\\\\\n",
    "\\text{ }\\\\\n",
    "\\end{array}\n",
    "$$\n",
    "\n",
    "### Divisão proporcional:\n",
    "\n",
    "Estamos prontos para fazer a divisão proporcional das famílias que idealmente deveriam ser atendidas por UF. Para isso, vamos supor que o somatório desses públicos-alvo seja igual ao total de famílias realmente atendidas pelo projeto, ou seja, 108.259:\n",
    "\n",
    "$$\n",
    "\\text{ }\\\\\n",
    "\\left\\{\n",
    "    \\begin{array}{ll}\n",
    "    p_{\\tiny{\\text{AC}}}+p_{\\tiny{\\text{AL}}}+p_{\\tiny{\\text{AM}}}+p_{\\tiny{\\text{AP}}}+p_{\\tiny{\\text{BA}}}+p_{\\tiny{\\text{CE}}}+p_{\\tiny{\\text{DF}}}+\\text{...}+p_{\\tiny{\\text{TO}}}=108.259 \\tiny{\\text{ (equação 1)}}\\\\\n",
    "    \\\\ \\text{ } \\\\\n",
    "    \\dfrac{p_{\\tiny{\\text{AC}}}}{B_{\\tiny{\\text{AC}}}}=\\dfrac{p_{\\tiny{\\text{AL}}}}{B_{\\tiny{\\text{AL}}}}=\\dfrac{p_{\\tiny{\\text{AM}}}}{B_{\\tiny{\\text{AM}}}}=\\dfrac{p_{\\tiny{\\text{AP}}}}{B_{\\tiny{\\text{AP}}}}=\\dfrac{p_{\\tiny{\\text{BA}}}}{B_{\\tiny{\\text{BA}}}}=\\dfrac{p_{\\tiny{\\text{CE}}}}{B_{\\tiny{\\text{CE}}}}=\\dfrac{p_{\\tiny{\\text{DF}}}}{B_{\\tiny{\\text{DF}}}}=...=\\dfrac{p_{\\tiny{\\text{TO}}}}{B_{\\tiny{\\text{TO}}}}\n",
    "    \\end{array}\n",
    "\\right.\\\\\n",
    "\\text{ }\\\\\n",
    "$$\n",
    "\n",
    "Ora, sabemos que, em toda proporção, cada antecedente está para seu consequente assim como a soma dos antecedentes está para a soma dos consequentes. Ou seja:\n",
    "$$\n",
    "\\text{ }\\\\\n",
    "\\dfrac{p_{\\tiny{\\text{AC}}}}{B_{\\tiny{\\text{AC}}}}=\\dfrac{p_{\\tiny{\\text{AL}}}}{B_{\\tiny{\\text{AL}}}}=\\dfrac{p_{\\tiny{\\text{AM}}}}{B_{\\tiny{\\text{AM}}}}=\\dfrac{p_{\\tiny{\\text{AP}}}}{B_{\\tiny{\\text{AP}}}}=\\dfrac{p_{\\tiny{\\text{BA}}}}{B_{\\tiny{\\text{BA}}}}=\\dfrac{p_{\\tiny{\\text{CE}}}}{B_{\\tiny{\\text{CE}}}}=\\dfrac{p_{\\tiny{\\text{DF}}}}{B_{\\tiny{\\text{DF}}}}=...=\\dfrac{p_{\\tiny{\\text{TO}}}}{B_{\\tiny{\\text{TO}}}}=\\frac{\\Sigma p}{\\Sigma B}\\\\\n",
    "\\text{ }\\\\\n",
    "$$\n",
    "\n",
    "Assim, deduzimos o valor da constante de proporcionalidade $K$:\n",
    "$$\n",
    "\\text{ }\\\\\n",
    "k=\\frac{\\Sigma p}{\\Sigma B}\\\\\n",
    "\\text{ }\\\\\n",
    "$$\n",
    "\n",
    "Sabemos, da equação 1, que $\\Sigma p = 108.259$. Mais à frente, depois que importarmos os dados do IBGE e os consolidarmos aos dados dos beneficiários, estaremos aptos a calcular o índice Beija-Flor ($B$) de cada UF e, consequentemente, seu somatório $\\Sigma B$.\n",
    "\n",
    "Dessa forma, podemos reescrever a fórmula 1, que nos permitirá calcular o público-alvo ideal $p$ de cada UF:\n",
    "$$\n",
    "\\text{ }\\\\\n",
    "\\fbox{$p=\\dfrac{108.259 \\ \\cdot \\ B}{\\Sigma B}$}\\\\\n",
    "\\text{ }\\\\\n",
    "$$\n",
    "\n",
    "O próximo passo, portanto, é carregar os dados do IBGE, obtendo IDH e população total de cada UF."
   ]
  },
  {
   "cell_type": "markdown",
   "metadata": {
    "application/vnd.databricks.v1+cell": {
     "cellMetadata": {
      "byteLimit": 2048000,
      "rowLimit": 10000
     },
     "inputWidgets": {},
     "nuid": "71deddff-f004-41c6-9d8b-a57a360a3d79",
     "showTitle": false,
     "tableResultSettingsMap": {},
     "title": ""
    }
   },
   "source": [
    "## Carregando os dados do IBGE\n",
    "\n",
    "Vamos agora carregar um arquivo csv com as informações de IDH e população total, obtidas previamente no site do IBGE:"
   ]
  },
  {
   "cell_type": "code",
   "execution_count": 0,
   "metadata": {
    "application/vnd.databricks.v1+cell": {
     "cellMetadata": {
      "byteLimit": 2048000,
      "rowLimit": 10000
     },
     "inputWidgets": {},
     "nuid": "90f9943e-493a-4371-a086-6dcd2e89a19a",
     "showTitle": false,
     "tableResultSettingsMap": {},
     "title": ""
    }
   },
   "outputs": [],
   "source": [
    "url = \"https://drive.google.com/uc?export=download&id=1C0cSMvgx1GyCs2Jf-QhuXYJXR68wjbF2\"\n",
    "csv_ibge = pandas.read_csv(url,delimiter=\";\")"
   ]
  },
  {
   "cell_type": "markdown",
   "metadata": {
    "application/vnd.databricks.v1+cell": {
     "cellMetadata": {
      "byteLimit": 2048000,
      "rowLimit": 10000
     },
     "inputWidgets": {},
     "nuid": "3b25614a-311a-448d-ae3d-999c0430c7b0",
     "showTitle": false,
     "tableResultSettingsMap": {},
     "title": ""
    }
   },
   "source": [
    "## Criando a tabela \"ibge\" \n",
    "\n",
    "Uma vez carregados, vamos utilizar Spark para converter esses dados em um DataFrame, armazenado na variável `df_ibge`. Em seguida, criamos a tabela `ibge`."
   ]
  },
  {
   "cell_type": "code",
   "execution_count": 0,
   "metadata": {
    "application/vnd.databricks.v1+cell": {
     "cellMetadata": {
      "byteLimit": 2048000,
      "rowLimit": 10000
     },
     "inputWidgets": {},
     "nuid": "b707314f-4615-45eb-9461-b5366c33901c",
     "showTitle": false,
     "tableResultSettingsMap": {},
     "title": ""
    }
   },
   "outputs": [],
   "source": [
    "df_ibge = spark.createDataFrame(csv_ibge)\n",
    "df_ibge.write.mode(\"overwrite\").saveAsTable(\"ibge\")"
   ]
  },
  {
   "cell_type": "markdown",
   "metadata": {
    "application/vnd.databricks.v1+cell": {
     "cellMetadata": {
      "byteLimit": 2048000,
      "rowLimit": 10000
     },
     "inputWidgets": {},
     "nuid": "5c703896-ac06-47d4-8364-e287b1c210ab",
     "showTitle": false,
     "tableResultSettingsMap": {},
     "title": ""
    }
   },
   "source": [
    "## Consolidando os beneficiários agrupados por UF com os dados do IBGE\n",
    "\n",
    "Vamos agora consolidar os dados dos beneficiários com os dados obtidos do IBGE, criando também o atributo `indice_beija_flor`."
   ]
  },
  {
   "cell_type": "code",
   "execution_count": 0,
   "metadata": {
    "application/vnd.databricks.v1+cell": {
     "cellMetadata": {
      "byteLimit": 2048000,
      "implicitDf": true,
      "rowLimit": 10000
     },
     "inputWidgets": {},
     "nuid": "a386b6ba-d6bb-4f72-b2a9-8b3777a31fdc",
     "showTitle": false,
     "tableResultSettingsMap": {},
     "title": ""
    }
   },
   "outputs": [
    {
     "data": {
      "text/html": [
       "<style scoped>\n",
       "  .table-result-container {\n",
       "    max-height: 300px;\n",
       "    overflow: auto;\n",
       "  }\n",
       "  table, th, td {\n",
       "    border: 1px solid black;\n",
       "    border-collapse: collapse;\n",
       "  }\n",
       "  th, td {\n",
       "    padding: 5px;\n",
       "  }\n",
       "  th {\n",
       "    text-align: left;\n",
       "  }\n",
       "</style><div class='table-result-container'><table class='table-result'><thead style='background-color: white'><tr><th>uf</th><th>publico_atendido</th><th>populacao</th><th>idh</th><th>indice_beija_flor</th></tr></thead><tbody><tr><td>AC</td><td>824</td><td>830018</td><td>0.71</td><td>1169039.4366197183</td></tr><tr><td>AL</td><td>3835</td><td>3127683</td><td>0.684</td><td>4572635.96491228</td></tr><tr><td>AM</td><td>3833</td><td>3941613</td><td>0.7</td><td>5630875.714285715</td></tr><tr><td>AP</td><td>690</td><td>733759</td><td>0.688</td><td>1066510.1744186047</td></tr><tr><td>BA</td><td>17573</td><td>14141626</td><td>0.691</td><td>2.0465450072358903E7</td></tr><tr><td>CE</td><td>6985</td><td>8794957</td><td>0.734</td><td>1.1982230245231608E7</td></tr><tr><td>DF</td><td>1433</td><td>2817381</td><td>0.814</td><td>3461156.0196560198</td></tr><tr><td>ES</td><td>791</td><td>3833712</td><td>0.771</td><td>4972389.1050583655</td></tr><tr><td>GO</td><td>1623</td><td>7056495</td><td>0.737</td><td>9574620.081411127</td></tr><tr><td>MA</td><td>8981</td><td>6776699</td><td>0.676</td><td>1.0024702662721893E7</td></tr><tr><td>MG</td><td>9242</td><td>20539989</td><td>0.774</td><td>2.653745348837209E7</td></tr><tr><td>MS</td><td>755</td><td>2757013</td><td>0.742</td><td>3715650.9433962265</td></tr><tr><td>MT</td><td>455</td><td>3658649</td><td>0.736</td><td>4970990.489130435</td></tr><tr><td>PA</td><td>6631</td><td>8120131</td><td>0.69</td><td>1.1768305797101451E7</td></tr><tr><td>PB</td><td>2959</td><td>3974687</td><td>0.698</td><td>5694393.982808024</td></tr><tr><td>PE</td><td>6971</td><td>9058931</td><td>0.719</td><td>1.2599347705146037E7</td></tr><tr><td>PI</td><td>2906</td><td>3271199</td><td>0.69</td><td>4740868.115942029</td></tr><tr><td>PR</td><td>6389</td><td>11444380</td><td>0.769</td><td>1.4882158647594279E7</td></tr><tr><td>RJ</td><td>4053</td><td>16055174</td><td>0.762</td><td>2.106978215223097E7</td></tr><tr><td>RN</td><td>2304</td><td>3302729</td><td>0.728</td><td>4536715.659340659</td></tr><tr><td>RO</td><td>552</td><td>1581196</td><td>0.7</td><td>2258851.4285714286</td></tr><tr><td>RR</td><td>357</td><td>636707</td><td>0.699</td><td>910882.6895565094</td></tr><tr><td>RS</td><td>3069</td><td>10882965</td><td>0.771</td><td>1.4115389105058365E7</td></tr><tr><td>SC</td><td>488</td><td>7610361</td><td>0.792</td><td>9609041.666666666</td></tr><tr><td>SE</td><td>2045</td><td>2210004</td><td>0.702</td><td>3148153.8461538465</td></tr><tr><td>SP</td><td>11886</td><td>44411238</td><td>0.806</td><td>5.5100791563275434E7</td></tr><tr><td>TO</td><td>629</td><td>1511460</td><td>0.731</td><td>2067660.7387140903</td></tr></tbody></table></div>"
      ]
     },
     "metadata": {
      "application/vnd.databricks.v1+output": {
       "addedWidgets": {},
       "aggData": [],
       "aggError": "",
       "aggOverflow": false,
       "aggSchema": [],
       "aggSeriesLimitReached": false,
       "aggType": "",
       "arguments": {},
       "columnCustomDisplayInfos": {},
       "data": [
        [
         "AC",
         824,
         830018,
         0.71,
         1169039.4366197183
        ],
        [
         "AL",
         3835,
         3127683,
         0.684,
         4572635.96491228
        ],
        [
         "AM",
         3833,
         3941613,
         0.7,
         5630875.714285715
        ],
        [
         "AP",
         690,
         733759,
         0.688,
         1066510.1744186047
        ],
        [
         "BA",
         17573,
         14141626,
         0.691,
         20465450.072358903
        ],
        [
         "CE",
         6985,
         8794957,
         0.734,
         11982230.245231608
        ],
        [
         "DF",
         1433,
         2817381,
         0.814,
         3461156.0196560198
        ],
        [
         "ES",
         791,
         3833712,
         0.771,
         4972389.1050583655
        ],
        [
         "GO",
         1623,
         7056495,
         0.737,
         9574620.081411127
        ],
        [
         "MA",
         8981,
         6776699,
         0.676,
         10024702.662721893
        ],
        [
         "MG",
         9242,
         20539989,
         0.774,
         26537453.48837209
        ],
        [
         "MS",
         755,
         2757013,
         0.742,
         3715650.9433962265
        ],
        [
         "MT",
         455,
         3658649,
         0.736,
         4970990.489130435
        ],
        [
         "PA",
         6631,
         8120131,
         0.69,
         11768305.797101451
        ],
        [
         "PB",
         2959,
         3974687,
         0.698,
         5694393.982808024
        ],
        [
         "PE",
         6971,
         9058931,
         0.719,
         12599347.705146037
        ],
        [
         "PI",
         2906,
         3271199,
         0.69,
         4740868.115942029
        ],
        [
         "PR",
         6389,
         11444380,
         0.769,
         14882158.647594279
        ],
        [
         "RJ",
         4053,
         16055174,
         0.762,
         21069782.15223097
        ],
        [
         "RN",
         2304,
         3302729,
         0.728,
         4536715.659340659
        ],
        [
         "RO",
         552,
         1581196,
         0.7,
         2258851.4285714286
        ],
        [
         "RR",
         357,
         636707,
         0.699,
         910882.6895565094
        ],
        [
         "RS",
         3069,
         10882965,
         0.771,
         14115389.105058365
        ],
        [
         "SC",
         488,
         7610361,
         0.792,
         9609041.666666666
        ],
        [
         "SE",
         2045,
         2210004,
         0.702,
         3148153.8461538465
        ],
        [
         "SP",
         11886,
         44411238,
         0.806,
         55100791.563275434
        ],
        [
         "TO",
         629,
         1511460,
         0.731,
         2067660.7387140903
        ]
       ],
       "datasetInfos": [],
       "dbfsResultPath": null,
       "isJsonSchema": true,
       "metadata": {},
       "overflow": false,
       "plotOptions": {
        "customPlotOptions": {},
        "displayType": "table",
        "pivotAggregation": null,
        "pivotColumns": null,
        "xColumns": null,
        "yColumns": null
       },
       "removedWidgets": [],
       "schema": [
        {
         "metadata": "{}",
         "name": "uf",
         "type": "\"string\""
        },
        {
         "metadata": "{}",
         "name": "publico_atendido",
         "type": "\"long\""
        },
        {
         "metadata": "{}",
         "name": "populacao",
         "type": "\"long\""
        },
        {
         "metadata": "{}",
         "name": "idh",
         "type": "\"double\""
        },
        {
         "metadata": "{}",
         "name": "indice_beija_flor",
         "type": "\"double\""
        }
       ],
       "type": "table"
      }
     },
     "output_type": "display_data"
    }
   ],
   "source": [
    "%sql\n",
    "\n",
    "CREATE OR REPLACE TEMP VIEW informacoes_consolidadas AS\n",
    "SELECT\n",
    "  beneficiarios_por_uf.uf,\n",
    "  beneficiarios_por_uf.publico_atendido,\n",
    "  ibge.populacao,\n",
    "  ibge.idh,\n",
    "  (cast(ibge.populacao AS DOUBLE) / cast(ibge.idh AS DOUBLE)) AS indice_beija_flor\n",
    "FROM\n",
    "  beneficiarios_por_uf\n",
    "JOIN\n",
    "  ibge\n",
    "ON\n",
    "  beneficiarios_por_uf.uf = ibge.uf;\n",
    "\n",
    "SELECT \n",
    "  * \n",
    "FROM \n",
    "  informacoes_consolidadas\n",
    "ORDER BY uf "
   ]
  },
  {
   "cell_type": "markdown",
   "metadata": {
    "application/vnd.databricks.v1+cell": {
     "cellMetadata": {
      "byteLimit": 2048000,
      "rowLimit": 10000
     },
     "inputWidgets": {},
     "nuid": "4bbd0b53-560d-43fc-918e-50feb59ca5c7",
     "showTitle": false,
     "tableResultSettingsMap": {},
     "title": ""
    }
   },
   "source": [
    "## Definindo a camada ouro dos dados\n",
    "\n",
    "Chegamos, portanto, à camada ouro de nossos dados. A seguir, uma consulta SQL exibe seus registros:"
   ]
  },
  {
   "cell_type": "code",
   "execution_count": 0,
   "metadata": {
    "application/vnd.databricks.v1+cell": {
     "cellMetadata": {
      "byteLimit": 2048000,
      "implicitDf": true,
      "rowLimit": 10000
     },
     "inputWidgets": {},
     "nuid": "77b84306-554c-4cb1-8fec-2d2821f134d6",
     "showTitle": false,
     "tableResultSettingsMap": {},
     "title": ""
    }
   },
   "outputs": [
    {
     "data": {
      "text/html": [
       "<style scoped>\n",
       "  .table-result-container {\n",
       "    max-height: 300px;\n",
       "    overflow: auto;\n",
       "  }\n",
       "  table, th, td {\n",
       "    border: 1px solid black;\n",
       "    border-collapse: collapse;\n",
       "  }\n",
       "  th, td {\n",
       "    padding: 5px;\n",
       "  }\n",
       "  th {\n",
       "    text-align: left;\n",
       "  }\n",
       "</style><div class='table-result-container'><table class='table-result'><thead style='background-color: white'><tr><th>uf</th><th>publico_atendido</th><th>publico_alvo</th></tr></thead><tbody><tr><td>AC</td><td>824</td><td>468.0</td></tr><tr><td>AL</td><td>3835</td><td>1829.0</td></tr><tr><td>AM</td><td>3833</td><td>2252.0</td></tr><tr><td>AP</td><td>690</td><td>427.0</td></tr><tr><td>BA</td><td>17573</td><td>8186.0</td></tr><tr><td>CE</td><td>6985</td><td>4793.0</td></tr><tr><td>DF</td><td>1433</td><td>1384.0</td></tr><tr><td>ES</td><td>791</td><td>1989.0</td></tr><tr><td>GO</td><td>1623</td><td>3830.0</td></tr><tr><td>MA</td><td>8981</td><td>4010.0</td></tr><tr><td>MG</td><td>9242</td><td>10615.0</td></tr><tr><td>MS</td><td>755</td><td>1486.0</td></tr><tr><td>MT</td><td>455</td><td>1988.0</td></tr><tr><td>PA</td><td>6631</td><td>4707.0</td></tr><tr><td>PB</td><td>2959</td><td>2278.0</td></tr><tr><td>PE</td><td>6971</td><td>5040.0</td></tr><tr><td>PI</td><td>2906</td><td>1896.0</td></tr><tr><td>PR</td><td>6389</td><td>5953.0</td></tr><tr><td>RJ</td><td>4053</td><td>8428.0</td></tr><tr><td>RN</td><td>2304</td><td>1815.0</td></tr><tr><td>RO</td><td>552</td><td>904.0</td></tr><tr><td>RR</td><td>357</td><td>364.0</td></tr><tr><td>RS</td><td>3069</td><td>5646.0</td></tr><tr><td>SC</td><td>488</td><td>3844.0</td></tr><tr><td>SE</td><td>2045</td><td>1259.0</td></tr><tr><td>SP</td><td>11886</td><td>22040.0</td></tr><tr><td>TO</td><td>629</td><td>827.0</td></tr></tbody></table></div>"
      ]
     },
     "metadata": {
      "application/vnd.databricks.v1+output": {
       "addedWidgets": {},
       "aggData": [],
       "aggError": "",
       "aggOverflow": false,
       "aggSchema": [],
       "aggSeriesLimitReached": false,
       "aggType": "",
       "arguments": {},
       "columnCustomDisplayInfos": {},
       "data": [
        [
         "AC",
         824,
         468
        ],
        [
         "AL",
         3835,
         1829
        ],
        [
         "AM",
         3833,
         2252
        ],
        [
         "AP",
         690,
         427
        ],
        [
         "BA",
         17573,
         8186
        ],
        [
         "CE",
         6985,
         4793
        ],
        [
         "DF",
         1433,
         1384
        ],
        [
         "ES",
         791,
         1989
        ],
        [
         "GO",
         1623,
         3830
        ],
        [
         "MA",
         8981,
         4010
        ],
        [
         "MG",
         9242,
         10615
        ],
        [
         "MS",
         755,
         1486
        ],
        [
         "MT",
         455,
         1988
        ],
        [
         "PA",
         6631,
         4707
        ],
        [
         "PB",
         2959,
         2278
        ],
        [
         "PE",
         6971,
         5040
        ],
        [
         "PI",
         2906,
         1896
        ],
        [
         "PR",
         6389,
         5953
        ],
        [
         "RJ",
         4053,
         8428
        ],
        [
         "RN",
         2304,
         1815
        ],
        [
         "RO",
         552,
         904
        ],
        [
         "RR",
         357,
         364
        ],
        [
         "RS",
         3069,
         5646
        ],
        [
         "SC",
         488,
         3844
        ],
        [
         "SE",
         2045,
         1259
        ],
        [
         "SP",
         11886,
         22040
        ],
        [
         "TO",
         629,
         827
        ]
       ],
       "datasetInfos": [],
       "dbfsResultPath": null,
       "isJsonSchema": true,
       "metadata": {},
       "overflow": false,
       "plotOptions": {
        "customPlotOptions": {},
        "displayType": "table",
        "pivotAggregation": null,
        "pivotColumns": null,
        "xColumns": null,
        "yColumns": null
       },
       "removedWidgets": [],
       "schema": [
        {
         "metadata": "{}",
         "name": "uf",
         "type": "\"string\""
        },
        {
         "metadata": "{}",
         "name": "publico_atendido",
         "type": "\"long\""
        },
        {
         "metadata": "{}",
         "name": "publico_alvo",
         "type": "\"double\""
        }
       ],
       "type": "table"
      }
     },
     "output_type": "display_data"
    }
   ],
   "source": [
    "%sql\n",
    "\n",
    "CREATE OR REPLACE TABLE beneficiarios_gold AS \n",
    "WITH \n",
    "base AS (\n",
    "  SELECT \n",
    "    SUM(indice_beija_flor) AS fator \n",
    "  FROM \n",
    "    informacoes_consolidadas\n",
    "),\n",
    "calculo AS (\n",
    "  SELECT\n",
    "    uf,\n",
    "    publico_atendido,\n",
    "    ROUND((108259 * indice_beija_flor / base.fator)) AS publico_alvo\n",
    "  FROM informacoes_consolidadas, base\n",
    ")\n",
    "SELECT * FROM calculo;\n",
    "\n",
    "SELECT\n",
    "  *\n",
    "FROM\n",
    "  beneficiarios_gold\n",
    "ORDER BY\n",
    "  uf\n"
   ]
  },
  {
   "cell_type": "markdown",
   "metadata": {
    "application/vnd.databricks.v1+cell": {
     "cellMetadata": {
      "byteLimit": 2048000,
      "rowLimit": 10000
     },
     "inputWidgets": {},
     "nuid": "a6c16346-b2e8-4e78-9204-0799d31a4811",
     "showTitle": false,
     "tableResultSettingsMap": {},
     "title": ""
    }
   },
   "source": [
    "## Definindo o catálogo de dados da camada ouro\n",
    "\n",
    "Vamos conhecer melhor nossos dados através de seus metadados:\n",
    "\n",
    "| Atributo | Tipo de Dado | Descrição | Domínio | Observações |\n",
    "|---|---|---|---|---|\n",
    "| uf | Texto | UF obtida a partir do endereço completo | AC, AL, AM, AP, BA, CE, DF, ES, GO, MA, MG, MS, MT, PA, PB, PE, PI, PR, RJ, RN, RO, RR, RS, SC, SE, SP, TO |  |\n",
    "| publico_atendido | Inteiro | Quantidade de famílias que foram de fato atendidas pelo projeto | | Refere-se ao aspecto \"real\" do projeto |\n",
    "| publico_alvo | Float | Quantidade de famílias que deveriam ter sido atendidas pelo projeto, com base na metodologia proposta | | Refere-se ao aspecto \"ideal\" do projeto |"
   ]
  },
  {
   "cell_type": "markdown",
   "metadata": {
    "application/vnd.databricks.v1+cell": {
     "cellMetadata": {
      "byteLimit": 2048000,
      "rowLimit": 10000
     },
     "inputWidgets": {},
     "nuid": "a8a56bb4-9fc0-4688-8233-9120b9b45834",
     "showTitle": false,
     "tableResultSettingsMap": {},
     "title": ""
    }
   },
   "source": [
    "\n",
    "## Fazendo nossa análise final\n",
    "\n",
    "Finalmente podemos fazer nossa análise final dos dados, confrontando a distribuição real (azul) com a ideal (vermelho) de recursos do projeto por todo o território nacional.\n",
    "\n",
    "![Distribuição real x ideal de recursos do projeto](../Assets/grafico_2.png)"
   ]
  },
  {
   "cell_type": "markdown",
   "metadata": {
    "application/vnd.databricks.v1+cell": {
     "cellMetadata": {
      "byteLimit": 2048000,
      "rowLimit": 10000
     },
     "inputWidgets": {},
     "nuid": "e87e9c16-7acf-46fc-978c-7add269e01d0",
     "showTitle": false,
     "tableResultSettingsMap": {},
     "title": ""
    }
   },
   "source": [
    "## O que podemos concluir?\n",
    "\n",
    "Somente DF e RR ficaram próximos de suas distribuições ideais. \n",
    "\n",
    "Podemos notar UFs que foram privilegiadas, como AC, AL, AM, AP, BA, CE, MA, PA, PB, PE, PI, PR, RN e SE. No caso específico de BA, a discrepância é gigantesca, tendo recebido muito mais recursos do que o ideal.\n",
    "\n",
    "Mas então, podemos nos perguntar: existe excesso de ajuda?\n",
    "\n",
    "Se os recursos são limitados, sim. Afinal, excesso de ajuda para alguns implica falta de ajuda para outros. Por isso, ES, GO, MG, MS, MT, RJ, RO, RS, SC, SP e TO receberam recursos aquém do ideal. No caso específico de SP, a discrepância é gigantesca, tendo recebido muito menos recursos do que o ideal. \n",
    "\n",
    "No caso do Rio de Janeiro, sede nacional da ONG, algo curioso: os recursos recebidos também ficaram bem aquém dos ideais. Os dados em si não nos mostram o motivo disto. Podemos apenas imaginar que tenha se tratado de um impulso altruísta em distribuir recursos para outras regiões do território nacional. Ou, talvez, questões ligadas à segurança pública, como a comercialização de botijões de gás controlada por narco-milicianos, tenham limitado a distribuição de recursos no estado. Um problema que foi de fato abordado em diversas reuniões de planejamento.\n",
    "\n",
    "Enfim, quaisquer que tenham sido os motivos, podemos ver uma significativa diferença entre o aspecto real e o aspecto ideal do projeto."
   ]
  },
  {
   "cell_type": "markdown",
   "metadata": {
    "application/vnd.databricks.v1+cell": {
     "cellMetadata": {
      "byteLimit": 2048000,
      "rowLimit": 10000
     },
     "inputWidgets": {},
     "nuid": "f8edb0ec-f766-485d-b01a-7de8bc5b16d1",
     "showTitle": false,
     "tableResultSettingsMap": {},
     "title": ""
    }
   },
   "source": [
    "## Mas isso significa que o projeto foi mal conduzido?\n",
    "\n",
    "Certamente não!\n",
    "\n",
    "No início, a referência para a distribuição de recursos foi a impressão subjetiva da capacidade técnica dos comitês. Podemos perceber que há comitês muito bem aparelhados para atender a população em vulnerabilidade social, enquanto outros carecem de uma estrutura que os permitam ser mais atuantes em suas comunidades. \n",
    "\n",
    "O comitê central da Ação da Cidadania poderia usar esses dados para propor estratégias de fortalecimento de alguns comitês. São Paulo, por exemplo, é um território gigantesco, com uma enorme população carente. Se a estrutura de seu comitê não é suficiente para o gerenciamento de mais recursos, algo deve ser feito no sentido de fomentar essa estrutura.\n",
    "\n",
    "É claro que a metodologia aqui proposta pode ser discutida, ampliada ou reduzida. Mas o que realmente importa é que, utilizando dados objetivos, estratégias de médio e longo prazo podem ser definidas. E assim, a Ciência de Dados por ajudar a missão de nosso saudoso Betinho.\n",
    "\n",
    "Dessa forma, quem sabe, um dia, em uma sociedade evoluída e bem estruturada, instituições como a Ação da Cidadania deixem de ser necessárias.\n",
    "\n",
    "Mas até lá, quem tem fome tem pressa."
   ]
  }
 ],
 "metadata": {
  "application/vnd.databricks.v1+notebook": {
   "computePreferences": null,
   "dashboards": [],
   "environmentMetadata": {
    "base_environment": "",
    "environment_version": "1"
   },
   "inputWidgetPreferences": null,
   "language": "python",
   "notebookMetadata": {
    "mostRecentlyExecutedCommandWithImplicitDF": {
     "commandId": 3318377387956857,
     "dataframes": [
      "_sqldf"
     ]
    },
    "pythonIndentUnit": 4
   },
   "notebookName": "PUC-Rio - MVP_1 - 2025-04-05 08:46:51",
   "widgets": {}
  },
  "kernelspec": {
   "display_name": ".venv",
   "language": "python",
   "name": "python3"
  },
  "language_info": {
   "name": "python",
   "version": "3.11.9"
  }
 },
 "nbformat": 4,
 "nbformat_minor": 0
}
